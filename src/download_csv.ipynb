{
 "cells": [
  {
   "cell_type": "code",
   "execution_count": null,
   "metadata": {},
   "outputs": [],
   "source": [
    "!pip install gdown"
   ]
  },
  {
   "cell_type": "code",
   "execution_count": null,
   "metadata": {},
   "outputs": [],
   "source": [
    "import pandas as pd\n",
    "import gdown"
   ]
  },
  {
   "cell_type": "code",
   "execution_count": null,
   "metadata": {},
   "outputs": [],
   "source": [
    "csv_path = {\n",
    "    \"Base\": \"https://drive.google.com/file/d/1tx_oAk_tkoxOAG0bD0RSagSUPONTcBI-/view?usp=sharing\",\n",
    "    \"X_train_resampled_featureeng\": \"https://drive.google.com/file/d/1NqCdZ7wuIJwapKaHAIyvNfrwskLXWhyI/view?usp=sharing\",\n",
    "    \"y_train_resampled_featureeng\": \"https://drive.google.com/file/d/10W4Dk_7lcv0Yuht7KfIs_2m85VlaNVs8/view?usp=sharing\",\n",
    "    \"X_train_resampled_nonfeatureeng\": \"https://drive.google.com/file/d/1q9Yv9jPklCEqb0uOQoOf6C9e2nZjx9QU/view?usp=sharing\",\n",
    "    \"y_train_resampled_nonfeatureeng\": \"https://drive.google.com/file/d/1N5fhZzvter4hnp6sND8erTM4XJS93p4R/view?usp=sharing\"\n",
    "}"
   ]
  },
  {
   "cell_type": "code",
   "execution_count": null,
   "metadata": {},
   "outputs": [],
   "source": [
    "\n",
    "for key, value in csv_path.items():\n",
    "    file_id = value.split('/')[-2]  # Extracted from the URL\n",
    "    output = f\"../data/{key}.csv\"\n",
    "\n",
    "    gdown.download(f\"https://drive.google.com/uc?export=download&id={file_id}\", output, quiet=False) # quiet = show progress bar\n",
    "\n",
    "    print(f\"{key}.csv successfully downloaded!\")"
   ]
  },
  {
   "cell_type": "code",
   "execution_count": null,
   "metadata": {},
   "outputs": [],
   "source": []
  }
 ],
 "metadata": {
  "kernelspec": {
   "display_name": "base",
   "language": "python",
   "name": "python3"
  },
  "language_info": {
   "codemirror_mode": {
    "name": "ipython",
    "version": 3
   },
   "file_extension": ".py",
   "mimetype": "text/x-python",
   "name": "python",
   "nbconvert_exporter": "python",
   "pygments_lexer": "ipython3",
   "version": "3.9.13"
  }
 },
 "nbformat": 4,
 "nbformat_minor": 2
}
